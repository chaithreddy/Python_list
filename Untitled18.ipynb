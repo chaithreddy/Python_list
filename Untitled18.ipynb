{
  "nbformat": 4,
  "nbformat_minor": 0,
  "metadata": {
    "colab": {
      "provenance": []
    },
    "kernelspec": {
      "name": "python3",
      "display_name": "Python 3"
    },
    "language_info": {
      "name": "python"
    }
  },
  "cells": [
    {
      "cell_type": "code",
      "execution_count": 2,
      "metadata": {
        "id": "kYU7E_doN4iX"
      },
      "outputs": [],
      "source": [
        "# Configure Gemini API\n",
        "\n",
        "import google.generativeai as genai\n",
        "\n",
        "from google.colab import userdata\n",
        "\n",
        "GOOGLE_API_KEY=userdata.get('GOOGLE_API_KEY')\n",
        "\n",
        "genai.configure(api_key=GOOGLE_API_KEY)"
      ]
    },
    {
      "cell_type": "code",
      "source": [
        "pip install PyPDF2"
      ],
      "metadata": {
        "colab": {
          "base_uri": "https://localhost:8080/"
        },
        "id": "k2FLqr0fN6Kx",
        "outputId": "861e2eb4-5dab-4276-ef8c-d765e7b2e39a"
      },
      "execution_count": 3,
      "outputs": [
        {
          "output_type": "stream",
          "name": "stdout",
          "text": [
            "Collecting PyPDF2\n",
            "  Downloading pypdf2-3.0.1-py3-none-any.whl.metadata (6.8 kB)\n",
            "Downloading pypdf2-3.0.1-py3-none-any.whl (232 kB)\n",
            "\u001b[2K   \u001b[90m━━━━━━━━━━━━━━━━━━━━━━━━━━━━━━━━━━━━━━━━\u001b[0m \u001b[32m232.6/232.6 kB\u001b[0m \u001b[31m3.1 MB/s\u001b[0m eta \u001b[36m0:00:00\u001b[0m\n",
            "\u001b[?25hInstalling collected packages: PyPDF2\n",
            "Successfully installed PyPDF2-3.0.1\n"
          ]
        }
      ]
    },
    {
      "cell_type": "code",
      "source": [
        "pip install PyPDF2"
      ],
      "metadata": {
        "colab": {
          "base_uri": "https://localhost:8080/"
        },
        "id": "gbV-1-2sN9ba",
        "outputId": "e5638477-b9f0-4b42-b62a-98b74b6cc1ef"
      },
      "execution_count": 4,
      "outputs": [
        {
          "output_type": "stream",
          "name": "stdout",
          "text": [
            "Requirement already satisfied: PyPDF2 in /usr/local/lib/python3.11/dist-packages (3.0.1)\n"
          ]
        }
      ]
    },
    {
      "cell_type": "code",
      "source": [
        "import PyPDF2\n",
        "def extract_text_from_pdf(pdf_path):\n",
        "    \"\"\"Extracts text from a given health report PDF using PyPDF2.\"\"\"\n",
        "    text = \"\"\n",
        "    with open(pdf_path, \"rb\") as file:\n",
        "        reader = PyPDF2.PdfReader(file)\n",
        "        for page in reader.pages:\n",
        "            text += page.extract_text() + \"\\n\"\n",
        "    return text"
      ],
      "metadata": {
        "id": "Ph00G-91Oy_O"
      },
      "execution_count": 5,
      "outputs": []
    },
    {
      "cell_type": "code",
      "source": [
        "def extract_health_insights(text):\n",
        "  \"\"\"Asks Gemini AI to extract key medical insights from the report.\"\"\"\n",
        "  model=genai.GenerativeModel(\"gemini-1.5-flash\")\n",
        "  prompt=f\"Extract key insights from the following health report:\\n\\n{text}\"\n",
        "  response=model.generate_content(prompt)\n",
        "  return response.text\n",
        "pdf_file=\"health_report.pdf\"\n",
        "extracted_text=extract_text_from_pdf(pdf_file)\n",
        "insights=extract_health_insights(extracted_text)\n",
        "print(\"Key Insights:\\n\",insights)"
      ],
      "metadata": {
        "colab": {
          "base_uri": "https://localhost:8080/",
          "height": 592
        },
        "id": "ZUeLERcgP-Fy",
        "outputId": "03cd46a5-6805-42f2-d417-de348099559d"
      },
      "execution_count": 6,
      "outputs": [
        {
          "output_type": "stream",
          "name": "stdout",
          "text": [
            "Key Insights:\n",
            " Mr. Kishan Goud's (MR2100003157, IP2100041193) health report from February 1st, 2021, reveals the following key insights:\n",
            "\n",
            "**Infectious Diseases:**\n",
            "\n",
            "* **Negative for:** Dengue (NS1 Antigen, IgG, IgM), Malaria (Plasmodium Falciparum and Vivax).\n",
            "* **Widal Test:**  Elevated titers for *Salmonella Typhi* \"O\" (1:160) and \"H\" (1:80).  While the reference range is 1:20, these elevated titers suggest a possible past or present *Salmonella Typhi* infection.  *Salmonella Paratyphi* \"A\" and \"B\" titers were within the normal range.  Further investigation may be needed to confirm active infection.\n",
            "\n",
            "**Hematology:**\n",
            "\n",
            "* **Complete Blood Picture (CBC):**  All values (Hemoglobin, RBC, WBC, Platelets, PCV, Differential Count) are within normal limits, except for a slightly elevated ESR (26 mm/hr in the first hour, 52 mm/hr in the second hour).  The elevated ESR could indicate inflammation but requires further clinical correlation.\n",
            "* **HbA1c:** 5.4%, indicating good blood sugar control (within the normal non-diabetic range).\n",
            "\n",
            "**Biochemistry:**\n",
            "\n",
            "* **Liver Function Test (LFT):** All liver enzymes (bilirubin, alkaline phosphatase, SGOT, SGPT) and total protein and albumin levels are within the normal range.\n",
            "* **Serum Electrolytes:** Sodium (122 mmol/l) is slightly below the normal range (135-146 mmol/l), while potassium and chloride levels are within normal limits.  This low sodium warrants further investigation and clinical correlation.\n",
            "* **Serum Creatinine:** 0.8 mg/dl, within the normal range (0.6 - 1.25 mg/dl).\n",
            "* **Random Blood Glucose:**  The result is missing from the provided text.\n",
            "\n",
            "**Overall:**\n",
            "\n",
            "The report shows mostly normal results except for:\n",
            "\n",
            "* Elevated Widal test titers suggestive of a possible *Salmonella Typhi* infection (requires further evaluation).\n",
            "* Elevated ESR, suggesting possible inflammation.\n",
            "* Slightly low serum sodium level.\n",
            "\n",
            "**Recommendations:**\n",
            "\n",
            "The report alone isn't sufficient for diagnosis.  A physician should interpret these results in conjunction with the patient's clinical presentation, symptoms, and other relevant medical history to determine a proper diagnosis and treatment plan.  Further investigations might be necessary to clarify the cause of the elevated ESR and slightly low sodium, as well as to confirm or rule out active typhoid infection.\n",
            "\n"
          ]
        }
      ]
    },
    {
      "cell_type": "code",
      "source": [
        "def summarize_health_report(text):\n",
        "  \"\"\"Summarizes the health report using Gemini AI.\"\"\"\n",
        "  model=genai.GenerativeModel(\"gemini-1.5-flash\")\n",
        "  prompt=f\"Summarize the following health report:\\n\\n{text}\"\n",
        "  response=model.generate_content(prompt)\n",
        "  return response.text\n",
        "summary=summarize_health_report(extracted_text)\n",
        "print(\"Summary:\\n\",summary)"
      ],
      "metadata": {
        "colab": {
          "base_uri": "https://localhost:8080/",
          "height": 471
        },
        "id": "6bEG-qtRSHGe",
        "outputId": "dd407e01-7e3c-45bc-9500-bf16c7280b29"
      },
      "execution_count": 7,
      "outputs": [
        {
          "output_type": "stream",
          "name": "stdout",
          "text": [
            "Summary:\n",
            " This is a health report for Mr. Kishan Goud (MR2100003157), a 56-year-old male, conducted on 01/02/2021.  The report includes the following:\n",
            "\n",
            "**Infectious Disease Tests:**\n",
            "\n",
            "* **Widal Test:** Elevated titers for *Salmonella Typhi* \"O\" (1:160) and \"H\" (1:80), suggesting possible *Salmonella* Typhi infection.  *Salmonella* Paratyphi \"A\" and \"B\" were within normal range.\n",
            "* **Dengue Serology:** Negative for NS1 antigen, IgG, and IgM antibodies.  No evidence of dengue fever.\n",
            "* **Rapid Malaria Test:** Negative for both *Plasmodium falciparum* and *Plasmodium vivax*.\n",
            "\n",
            "**Hematology:**\n",
            "\n",
            "* **Complete Blood Picture (CBC):**  All values (hemoglobin, RBC, WBC, platelets, PCV, differential count) were within or near the normal range.\n",
            "* **Erythrocyte Sedimentation Rate (ESR):** Elevated (26 mm/hr in the first hour, 52 mm/hr in the second hour), suggesting inflammation.\n",
            "\n",
            "**Biochemistry:**\n",
            "\n",
            "* **Liver Function Test (LFT):** All liver enzymes (bilirubin, alkaline phosphatase, SGOT, SGPT) were within or slightly above the normal range.  Total protein and albumin levels were within normal limits.\n",
            "* **Serum Electrolytes:** Sodium (122 mmol/l) was slightly low, while potassium and chloride were within the normal range.\n",
            "* **Random Blood Glucose:** Within the normal range.\n",
            "* **HbA1c:** 5.4%, within the normal range for non-diabetics.\n",
            "* **Serum Creatinine:** Within the normal range.\n",
            "\n",
            "\n",
            "**Overall:** The report shows some indicators of inflammation (elevated ESR) and possibly *Salmonella Typhi* infection (elevated Widal test titers).  Further investigation may be needed to confirm the *Salmonella* infection and address the slightly low sodium level.  Other tests for infectious diseases were negative.\n",
            "\n"
          ]
        }
      ]
    },
    {
      "cell_type": "code",
      "source": [
        "from contextlib import AbstractContextManager\n",
        "def detect_abnormalities(text):\n",
        "  \"\"\"Analyzes lab test results and flags abnormal values.\"\"\"\n",
        "  model=genai.GenerativeModel(\"gemini-1.5-flash\")\n",
        "  prompt=f\"Analyze the lab test results in the following health report and highlight any abnormal values:\\n\\n{text}\"\n",
        "  response=model.generate_content(prompt)\n",
        "  return response.text\n",
        "abnormalities=detect_abnormalities(extracted_text)\n",
        "print(\"potential Abnormalities:\\n\",abnormalities)"
      ],
      "metadata": {
        "colab": {
          "base_uri": "https://localhost:8080/",
          "height": 332
        },
        "id": "Tbs4jePATA9b",
        "outputId": "3f929644-7e3c-4110-b1f6-ca2b19adff1a"
      },
      "execution_count": 8,
      "outputs": [
        {
          "output_type": "stream",
          "name": "stdout",
          "text": [
            "potential Abnormalities:\n",
            " Based on the provided lab results, the following values are outside the given reference ranges, indicating potential abnormalities:\n",
            "\n",
            "* **Widal Test:**  S. Typhi \"O\" (1:160) and S. Typhi \"H\" (1:80) are both significantly higher than the reference range (1:20). This strongly suggests a past or present *Salmonella Typhi* infection (typhoid fever).  The higher \"O\" titre is suggestive of a more acute infection, but this needs clinical correlation.\n",
            "\n",
            "* **ESR (Erythrocyte Sedimentation Rate):** Both the 1st hour (26 mm/hr) and 2nd hour (52 mm/hr) values are significantly elevated above the normal range (0-8 mm/hr for the first hour). This indicates inflammation in the body.  The cause needs further investigation.\n",
            "\n",
            "* **Serum Sodium:** 122 mmol/l is below the reference range of 135-146 mmol/l, suggesting hyponatremia (low sodium levels). This requires further evaluation.\n",
            "\n",
            "* **Serum Chloride:** 97 mmol/l is below the reference range of 98-107 mmol/l, indicating hypochloremia (low chloride levels).  This is often associated with other electrolyte imbalances, such as hyponatremia.\n",
            "\n",
            "**Values within the reference ranges but warranting consideration:**\n",
            "\n",
            "* While the **RBC**, **WBC**, **Platelet Count**, **Hemoglobin**, and most **Differential Count** values are within the reference ranges, it's important to note that the ESR is significantly elevated suggesting underlying inflammation, and should be considered in conjunction with the complete blood picture.  The slightly low RBC count also warrants attention in view of this.\n",
            "\n",
            "**Important Note:**  I am an AI and cannot provide medical advice. These interpretations are based solely on the provided lab results and their comparison to reference ranges.  The results need to be interpreted in conjunction with the patient's clinical presentation, medical history, and other diagnostic findings by a qualified healthcare professional.  Mr. Kishan Goud needs to consult his doctor for proper diagnosis and treatment.\n",
            "\n"
          ]
        }
      ]
    },
    {
      "cell_type": "code",
      "source": [
        "def explain_medical_terms(text):\n",
        "  \"\"\"Asks Gemini AI to simplify medical terms for patient understanding.\"\"\"\n",
        "  model=genai.GenerativeModel(\"gemini-1.5-flash\")\n",
        "  prompt=f\"Explain the model terms in the following health report in simple language:\\n\\n{text}\"\n",
        "  response=model.generate_content(prompt)\n",
        "  return response.text\n",
        "explation=explain_medical_terms(extracted_text)\n",
        "print(\"Simplified Explanation:\\n\",explation)"
      ],
      "metadata": {
        "colab": {
          "base_uri": "https://localhost:8080/",
          "height": 1000
        },
        "id": "FfTQoVbGVNmz",
        "outputId": "2e238dd8-4a09-4bf3-8253-1d49047a8d97"
      },
      "execution_count": 9,
      "outputs": [
        {
          "output_type": "stream",
          "name": "stdout",
          "text": [
            "Simplified Explanation:\n",
            " This report shows the results of several blood tests performed on Mr. Kishan Goud. Let's break down each section in simple terms:\n",
            "\n",
            "**1. WIDAL Test:** This test checks for antibodies against *Salmonella Typhi* and *Salmonella Paratyphi*, bacteria that cause typhoid fever and paratyphoid fever.  The results are expressed as dilutions.  A higher number means a stronger positive reaction (more antibodies present).\n",
            "\n",
            "* **S. Typhi \"O\" 1:160:**  This indicates a significant antibody response to the \"O\" antigen of *Salmonella Typhi*.  The reference range is 1:20, meaning a result above 1:20 suggests past or present infection.\n",
            "* **S. Typhi \"H\" 1:80:** This also shows a significant antibody response to the \"H\" antigen of *Salmonella Typhi*. Again, above the reference range of 1:20.\n",
            "* **S. Paratyphi \"AH\" 1:20:** Antibody levels are within the normal range for this *Salmonella Paratyphi* antigen.\n",
            "* **S. Paratyphi \"BH\" 1:20:** Antibody levels are within the normal range for this *Salmonella Paratyphi* antigen.\n",
            "\n",
            "**2. Dengue Serology:** This tests for dengue fever, a viral infection spread by mosquitoes.\n",
            "\n",
            "* **Dengue NS1 Antigen:** Negative – No dengue virus detected.\n",
            "* **Dengue IgG:** Negative – No antibodies indicating past dengue infection were found.\n",
            "* **Dengue IgM:** Negative – No antibodies indicating a recent dengue infection were found.\n",
            "\n",
            "**3. Erythrocyte Sedimentation Rate (ESR):** This measures how quickly red blood cells settle at the bottom of a test tube. A faster settling rate (higher ESR) can indicate inflammation or infection in the body.\n",
            "\n",
            "* **ESR 1st Hour 26 mm/hr:** Elevated.  The normal range is 0-8 mm/hr.\n",
            "* **ESR 2nd Hour 52 mm/hr:**  Further elevated, confirming the high ESR.\n",
            "\n",
            "**4. Rapid Malaria Test:** This tests for malaria parasites.\n",
            "\n",
            "* **P.V (Plasmodium vivax):** Negative – No *Plasmodium vivax* malaria parasites detected.\n",
            "* **P.F (Plasmodium falciparum):** Negative – No *Plasmodium falciparum* malaria parasites detected.\n",
            "\n",
            "**5. Complete Blood Picture (CBC):** This is a comprehensive blood test that provides information about various blood components.\n",
            "\n",
            "* **Hemoglobin (Hb):** 13.6 gms% (within the normal range of 13-17 gms%).  Measures the oxygen-carrying capacity of red blood cells.\n",
            "* **Red Blood Cells (RBC):** 4.3 mill/cumm (slightly below the normal range of 4.5-5.5 mill/cumm).\n",
            "* **White Blood Cells (WBC):** 7,200 cells/cumm (within the normal range of 4000-10000 cells/cumm). Fight infection.\n",
            "* **Platelet Count:** 2.0 lakhs/cumm (within the normal range of 1.5-4.5 lakhs/cumm). Important for blood clotting.\n",
            "* **Packed Cell Volume (PCV):** 40.5% (within the normal range of 40-50%). The percentage of red blood cells in the blood.\n",
            "* **Differential Count:** This breaks down the types of white blood cells.  All values are within normal ranges.\n",
            "* **Peripheral Blood Smear:**  A microscopic examination of the blood, confirming the findings of the CBC.\n",
            "\n",
            "**6. HbA1c:**  This test measures average blood sugar levels over the past 2-3 months.  It's used to monitor diabetes. Mr. Goud's result is within the normal non-diabetic range.\n",
            "\n",
            "* **HbA1c 5.4%:**  Indicates good blood sugar control; within the normal range for someone without diabetes.\n",
            "\n",
            "**7. Serum Creatinine:** This measures kidney function.\n",
            "\n",
            "* **Serum Creatinine 0.8 mg/dl:** Within the normal range of 0.6 - 1.25 mg/dl, indicating normal kidney function.\n",
            "\n",
            "**8. Random Blood Glucose:** This measures blood sugar level at a random time.\n",
            "\n",
            "* **Random Blood Glucose:** The result is missing from the provided text but the reference range is given as 60-170 mg/dl.\n",
            "\n",
            "**9. Liver Function Test (LFT):** This group of tests assesses liver health.  All results are within normal ranges.\n",
            "\n",
            "* **Total Bilirubin:** Measures the level of bilirubin (a breakdown product of hemoglobin).\n",
            "* **Direct Bilirubin:** A type of bilirubin.\n",
            "* **Indirect Bilirubin:** Another type of bilirubin.\n",
            "* **Serum Alkaline Phosphatase:** An enzyme found in the liver and bones.\n",
            "* **SGOT (AST):** Aspartate aminotransferase, an enzyme found in the liver and other tissues.\n",
            "* **SGPT (ALT):** Alanine aminotransferase, an enzyme primarily found in the liver.\n",
            "* **Total Protein:** The total amount of protein in the blood.\n",
            "* **Albumin:** A type of protein made by the liver.\n",
            "* **Globulin:** Another type of protein.\n",
            "* **A/G Ratio:** The ratio of albumin to globulin.\n",
            "\n",
            "**10. Serum Electrolytes:** These tests measure the levels of essential minerals in the blood.  Sodium is slightly low.\n",
            "\n",
            "* **Serum Sodium:** Slightly low (122 mmol/l, normal range 135-146 mmol/l).\n",
            "* **Serum Potassium:** Within normal range (3.5 mmol/l, normal range 3.5-5.5 mmol/l).\n",
            "* **Serum Chloride:** Slightly low (97 mmol/l, normal range 98-107 mmol/l).\n",
            "\n",
            "\n",
            "**In summary:**  Many of Mr. Goud's test results are within normal ranges. However, the elevated ESR and slightly low serum sodium and chloride warrant further investigation by his doctor. The Widal test suggests past exposure to *Salmonella Typhi*, but this needs to be interpreted in context with his clinical presentation.  His doctor will consider all these results along with his symptoms to determine a diagnosis and treatment plan.\n",
            "\n"
          ]
        }
      ]
    },
    {
      "cell_type": "code",
      "source": [
        "def ask_gemini_about_report(text,question):\n",
        "\n",
        "  \"\"\"Allows users to ask questions about their health report.\"\"\"\n",
        "  model=genai.GenerativeModel(\"gemini-1.5-flash\")\n",
        "  prompt=f\"The following is a health report:\\n\\n{text}\\n\\nAnswer the following question based on the report:\\n{question}\"\n",
        "  response=model.generate_content(prompt)\n",
        "  return response.text\n",
        "question = \"What is the patient's diagnosis?\"\n",
        "answer=ask_gemini_about_report(extracted_text,question)\n",
        "print(\"Answer:\\n\",answer )"
      ],
      "metadata": {
        "colab": {
          "base_uri": "https://localhost:8080/",
          "height": 89
        },
        "id": "HofG6Te8WlEG",
        "outputId": "f33d4117-9f84-47cd-eab6-4f05a3bf7940"
      },
      "execution_count": 12,
      "outputs": [
        {
          "output_type": "stream",
          "name": "stdout",
          "text": [
            "Answer:\n",
            " The provided lab report does not offer a diagnosis.  It presents the results of various tests, some showing values outside of the normal range (e.g., elevated ESR), but these are just data points.  A diagnosis requires a physician to interpret these results in the context of the patient's symptoms, medical history, and physical examination.  The elevated ESR could indicate inflammation, but the cause isn't determined by the lab work alone.\n",
            "\n"
          ]
        }
      ]
    },
    {
      "cell_type": "markdown",
      "source": [],
      "metadata": {
        "id": "239lqwPGXrEH"
      }
    },
    {
      "cell_type": "code",
      "source": [],
      "metadata": {
        "id": "N2j5pzO2YwZ9"
      },
      "execution_count": null,
      "outputs": []
    }
  ]
}