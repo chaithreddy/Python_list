{
  "nbformat": 4,
  "nbformat_minor": 0,
  "metadata": {
    "colab": {
      "provenance": []
    },
    "kernelspec": {
      "name": "python3",
      "display_name": "Python 3"
    },
    "language_info": {
      "name": "python"
    }
  },
  "cells": [
    {
      "cell_type": "code",
      "execution_count": null,
      "metadata": {
        "id": "uNKx_pDwOGUb"
      },
      "outputs": [],
      "source": []
    },
    {
      "cell_type": "code",
      "source": [
        "!pip install requests beautifulsoup4\n",
        "\n",
        "\n",
        "\n",
        "\n"
      ],
      "metadata": {
        "colab": {
          "base_uri": "https://localhost:8080/"
        },
        "id": "O1wrCu2pOLya",
        "outputId": "c99ec66e-1cdf-45fe-a023-acb9819ba3f2"
      },
      "execution_count": 4,
      "outputs": [
        {
          "output_type": "stream",
          "name": "stdout",
          "text": [
            "Requirement already satisfied: requests in /usr/local/lib/python3.11/dist-packages (2.32.3)\n",
            "Requirement already satisfied: beautifulsoup4 in /usr/local/lib/python3.11/dist-packages (4.13.3)\n",
            "Requirement already satisfied: charset-normalizer<4,>=2 in /usr/local/lib/python3.11/dist-packages (from requests) (3.4.1)\n",
            "Requirement already satisfied: idna<4,>=2.5 in /usr/local/lib/python3.11/dist-packages (from requests) (3.10)\n",
            "Requirement already satisfied: urllib3<3,>=1.21.1 in /usr/local/lib/python3.11/dist-packages (from requests) (2.3.0)\n",
            "Requirement already satisfied: certifi>=2017.4.17 in /usr/local/lib/python3.11/dist-packages (from requests) (2025.1.31)\n",
            "Requirement already satisfied: soupsieve>1.2 in /usr/local/lib/python3.11/dist-packages (from beautifulsoup4) (2.6)\n",
            "Requirement already satisfied: typing-extensions>=4.0.0 in /usr/local/lib/python3.11/dist-packages (from beautifulsoup4) (4.12.2)\n"
          ]
        }
      ]
    },
    {
      "cell_type": "code",
      "source": [
        "import requests\n",
        "\n",
        "from bs4 import BeautifulSoup\n",
        "\n",
        "\n",
        "\n",
        "# URL to scrape\n",
        "\n",
        "url = \"http://quotes.toscrape.com/\"\n",
        "\n",
        "\n",
        "\n",
        "# Send a GET request\n",
        "\n",
        "response = requests.get(url)"
      ],
      "metadata": {
        "id": "jE3dab1NOPfg"
      },
      "execution_count": 5,
      "outputs": []
    },
    {
      "cell_type": "code",
      "source": [
        "# Check if the request was successful\n",
        "\n",
        "if response.status_code == 200:\n",
        "\n",
        "    # Parse the HTML\n",
        "\n",
        "    soup = BeautifulSoup(response.text, 'html.parser')\n",
        "\n",
        "\n",
        "\n",
        "    # Find all quote containers\n",
        "\n",
        "    quotes = soup.find_all(\"div\", class_=\"quote\")\n",
        "\n",
        "\n",
        "\n",
        "    # Loop through each quote and extract data\n",
        "\n",
        "    for i, quote in enumerate(quotes[:5]):  # Get first 5 quotes\n",
        "\n",
        "        text = quote.find(\"span\", class_=\"text\").text  # Quote text\n",
        "\n",
        "        author = quote.find(\"small\", class_=\"author\").text  # Author name\n",
        "\n",
        "        tags = [tag.text for tag in quote.find_all(\"a\", class_=\"tag\")]  # List of tags\n",
        "\n",
        "\n",
        "\n",
        "        print(f\"{i+1}. \\\"{text}\\\" - {author}\")\n",
        "\n",
        "        print(f\"   Tags: {', '.join(tags)}\\n\")\n",
        "\n",
        "else:\n",
        "\n",
        "    print(f\"Failed to retrieve the webpage. Status Code: {response.status_code}\")"
      ],
      "metadata": {
        "colab": {
          "base_uri": "https://localhost:8080/"
        },
        "id": "prTkJwpXPj-t",
        "outputId": "10fc4593-525c-4167-be11-926224e5ca27"
      },
      "execution_count": 6,
      "outputs": [
        {
          "output_type": "stream",
          "name": "stdout",
          "text": [
            "1. \"“The world as we have created it is a process of our thinking. It cannot be changed without changing our thinking.”\" - Albert Einstein\n",
            "   Tags: change, deep-thoughts, thinking, world\n",
            "\n",
            "2. \"“It is our choices, Harry, that show what we truly are, far more than our abilities.”\" - J.K. Rowling\n",
            "   Tags: abilities, choices\n",
            "\n",
            "3. \"“There are only two ways to live your life. One is as though nothing is a miracle. The other is as though everything is a miracle.”\" - Albert Einstein\n",
            "   Tags: inspirational, life, live, miracle, miracles\n",
            "\n",
            "4. \"“The person, be it gentleman or lady, who has not pleasure in a good novel, must be intolerably stupid.”\" - Jane Austen\n",
            "   Tags: aliteracy, books, classic, humor\n",
            "\n",
            "5. \"“Imperfection is beauty, madness is genius and it's better to be absolutely ridiculous than absolutely boring.”\" - Marilyn Monroe\n",
            "   Tags: be-yourself, inspirational\n",
            "\n"
          ]
        }
      ]
    },
    {
      "cell_type": "code",
      "source": [
        "import requests\n",
        "\n",
        "from bs4 import BeautifulSoup\n",
        "\n",
        "\n",
        "\n",
        "# Define the city (e.g., New York)\n",
        "\n",
        "city = \"india/hyderabad\"\n",
        "\n",
        "\n",
        "\n",
        "# Weather URL\n",
        "\n",
        "url = f\"https://www.timeanddate.com/weather/{city}\"\n",
        "\n",
        "\n",
        "\n",
        "# Send GET request\n",
        "\n",
        "response = requests.get(url)\n",
        "\n",
        "soup = BeautifulSoup(response.text, 'html.parser')"
      ],
      "metadata": {
        "id": "pHIKNCLfPoyq"
      },
      "execution_count": 7,
      "outputs": []
    },
    {
      "cell_type": "code",
      "source": [
        "# Extract temperature and description\n",
        "\n",
        "temp = soup.find(\"div\", class_=\"h2\").text.strip() if soup.find(\"div\", class_=\"h2\") else \"N/A\"\n",
        "\n",
        "desc = soup.find(\"p\").text.strip() if soup.find(\"p\") else \"N/A\"\n",
        "\n",
        "\n",
        "\n",
        "print(f\"Current Weather in Hyderabad: {temp} | {desc}\")"
      ],
      "metadata": {
        "colab": {
          "base_uri": "https://localhost:8080/"
        },
        "id": "6Rwu86PbRkKw",
        "outputId": "54aab7ca-a86e-479e-8ec1-343c7816852e"
      },
      "execution_count": 8,
      "outputs": [
        {
          "output_type": "stream",
          "name": "stdout",
          "text": [
            "Current Weather in Hyderabad: 84 °F | Haze.\n"
          ]
        }
      ]
    },
    {
      "cell_type": "code",
      "source": [
        "import requests\n",
        "\n",
        "from bs4 import BeautifulSoup\n",
        "\n",
        "\n",
        "\n",
        "# Product search URL (Example: iPhone)\n",
        "\n",
        "search_url = \"https://www.amazon.in/s?k=iphone&crid=PQVCJSNISAH4&sprefix=iphone%2Caps%2C233&ref=nb_sb_noss_2\"\n",
        "\n",
        "\n",
        "\n",
        "# Headers (Mimic a browser)\n",
        "\n",
        "headers = {\n",
        "\n",
        "    \"User-Agent\": \"Mozilla/5.0 (Windows NT 10.0; Win64; x64) AppleWebKit/537.36 (KHTML, like Gecko) Chrome/91.0.4472.124 Safari/537.36\"\n",
        "\n",
        "}"
      ],
      "metadata": {
        "id": "BvVhGaebRoc-"
      },
      "execution_count": 9,
      "outputs": []
    },
    {
      "cell_type": "code",
      "source": [
        "# Send GET request\n",
        "\n",
        "response = requests.get(search_url, headers=headers)\n",
        "\n",
        "soup = BeautifulSoup(response.text, \"html.parser\")\n",
        "\n",
        "\n",
        "\n",
        "# Extract first product name & price\n",
        "\n",
        "product = soup.select_one(\"span.a-size-medium\")\n",
        "\n",
        "price = soup.select_one(\"span.a-price-whole\")\n",
        "\n",
        "\n",
        "\n",
        "# Display product details\n",
        "\n",
        "if product and price:\n",
        "\n",
        "    print(f\"Product: {product.text.strip()}\")\n",
        "\n",
        "    print(f\"Price: ${price.text.strip()}\")\n",
        "\n",
        "else:\n",
        "\n",
        "    print(\"Could not find product details.\")"
      ],
      "metadata": {
        "colab": {
          "base_uri": "https://localhost:8080/"
        },
        "id": "E7VpV19HSrNi",
        "outputId": "07bfe59d-c0c8-4dfc-ee34-c0092120292e"
      },
      "execution_count": 10,
      "outputs": [
        {
          "output_type": "stream",
          "name": "stdout",
          "text": [
            "Could not find product details.\n"
          ]
        }
      ]
    },
    {
      "cell_type": "code",
      "source": [
        "import requests\n",
        "\n",
        "from bs4 import BeautifulSoup\n",
        "\n",
        "\n",
        "\n",
        "# Wikipedia page URL\n",
        "\n",
        "url = \"https://en.wikipedia.org/wiki/List_of_countries_and_dependencies_by_population\"\n",
        "\n",
        "\n",
        "\n",
        "# Send GET request\n",
        "\n",
        "response = requests.get(url,headers=headers)\n",
        "\n",
        "soup = BeautifulSoup(response.text, \"html.parser\")\n",
        "\n",
        "\n",
        "\n",
        "# Find the table\n",
        "\n",
        "table = soup.find(\"table\", class_=\"wikitable\")"
      ],
      "metadata": {
        "id": "eu31dMR0U2Zv"
      },
      "execution_count": 11,
      "outputs": []
    },
    {
      "cell_type": "code",
      "source": [
        "# Extract the first 5 countries and their population\n",
        "\n",
        "for row in table.find_all(\"tr\")[1:6]:  # Skip the header row\n",
        "\n",
        "    columns = row.find_all(\"td\")\n",
        "\n",
        "    country = columns[1].text.strip()\n",
        "\n",
        "    population = columns[2].text.strip()\n",
        "\n",
        "\n",
        "\n",
        "    print(f\"{country}: {population}\")"
      ],
      "metadata": {
        "colab": {
          "base_uri": "https://localhost:8080/"
        },
        "id": "d75CBNyqTp4U",
        "outputId": "ae4c7ac6-86ad-48d4-ec49-e566a27b040d"
      },
      "execution_count": 12,
      "outputs": [
        {
          "output_type": "stream",
          "name": "stdout",
          "text": [
            "World: 8,119,000,000\n",
            "China: 1,408,280,000\n",
            "1,402,737,000: 17.2%\n",
            "United States: 340,110,988\n",
            "Indonesia: 282,477,584\n"
          ]
        }
      ]
    },
    {
      "cell_type": "code",
      "source": [
        "from IPython.display import display, HTML\n"
      ],
      "metadata": {
        "id": "9_lPF2wlXbw8"
      },
      "execution_count": 13,
      "outputs": []
    },
    {
      "cell_type": "code",
      "source": [
        "display(HTML(\"\"\"<table>\n",
        "\n",
        "  <tr>\n",
        "\n",
        "    <th>Company</th>\n",
        "\n",
        "    <th>Contact</th>\n",
        "\n",
        "    <th>Country</th>\n",
        "\n",
        "  </tr>\n",
        "\n",
        "  <tr>\n",
        "\n",
        "    <td>Alfreds Futterkiste</td>\n",
        "\n",
        "    <td>Maria Anders</td>\n",
        "\n",
        "    <td>Germany</td>\n",
        "\n",
        "  </tr>\n",
        "\n",
        "  <tr>\n",
        "\n",
        "    <td>Centro comercial Moctezuma</td>\n",
        "\n",
        "    <td>Francisco Chang</td>\n",
        "\n",
        "    <td>Mexico</td>\n",
        "\n",
        "  </tr>\n",
        "\n",
        "</table>\n",
        "\n",
        "\"\"\"))"
      ],
      "metadata": {
        "colab": {
          "base_uri": "https://localhost:8080/",
          "height": 83
        },
        "id": "5hf1wU5EY-M2",
        "outputId": "7fffe1c4-f062-4b65-b1c3-dea5c54eed0e"
      },
      "execution_count": 14,
      "outputs": [
        {
          "output_type": "display_data",
          "data": {
            "text/plain": [
              "<IPython.core.display.HTML object>"
            ],
            "text/html": [
              "<table>\n",
              "\n",
              "  <tr>\n",
              "\n",
              "    <th>Company</th>\n",
              "\n",
              "    <th>Contact</th>\n",
              "\n",
              "    <th>Country</th>\n",
              "\n",
              "  </tr>\n",
              "\n",
              "  <tr>\n",
              "\n",
              "    <td>Alfreds Futterkiste</td>\n",
              "\n",
              "    <td>Maria Anders</td>\n",
              "\n",
              "    <td>Germany</td>\n",
              "\n",
              "  </tr>\n",
              "\n",
              "  <tr>\n",
              "\n",
              "    <td>Centro comercial Moctezuma</td>\n",
              "\n",
              "    <td>Francisco Chang</td>\n",
              "\n",
              "    <td>Mexico</td>\n",
              "\n",
              "  </tr>\n",
              "\n",
              "</table>\n",
              "\n"
            ]
          },
          "metadata": {}
        }
      ]
    }
  ]
}