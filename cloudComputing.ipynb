{
 "cells": [
  {
   "cell_type": "raw",
   "id": "bd9aa881-3c45-4068-b9f9-ad1978b116da",
   "metadata": {},
   "source": [
    "1. Introduction to Cloud Computing\n",
    "Cloud computing is the delivery of computing services—including servers, storage, databases, networking, software, and analytics—over the internet (the \"cloud\") to offer faster innovation, flexible resources, and economies of scale."
   ]
  },
  {
   "cell_type": "raw",
   "id": "32cf84d0-fd5a-4321-aced-769aa12aa2b1",
   "metadata": {},
   "source": [
    "2. Characteristics of Cloud Computing\n",
    "On-demand self-service – Users can access computing resources as needed without human intervention.\n",
    "Broad network access – Services are accessible over the internet from various devices.\n",
    "Resource pooling – Cloud providers use multi-tenancy models to serve multiple customers efficiently.\n",
    "Rapid elasticity – Resources can scale up or down based on demand.\n",
    "Measured service – Customers pay only for what they use, optimizing cost.\n"
   ]
  },
  {
   "cell_type": "raw",
   "id": "ea4eb25f-d123-45a7-a131-53cf77cba242",
   "metadata": {},
   "source": [
    "3. Types of Cloud Computing\n",
    "Public Cloud – Resources are owned and operated by third-party providers (e.g., AWS, Microsoft Azure, Google Cloud).\n",
    "Private Cloud – Dedicated cloud infrastructure used by a single organization.\n",
    "Hybrid Cloud – Combination of public and private clouds for flexibility.\n",
    "Multi-Cloud – Use of multiple cloud providers to avoid dependency on a single vendor."
   ]
  },
  {
   "cell_type": "raw",
   "id": "738d0656-543b-4a13-b28a-7aaed895bb87",
   "metadata": {},
   "source": [
    "4. Cloud Computing Service Models\n",
    "Infrastructure as a Service (IaaS) – Provides virtualized computing resources like storage, networking, and servers (e.g., AWS EC2, Google Compute Engine).\n",
    "Platform as a Service (PaaS) – Offers platforms to develop, test, and deploy applications (e.g., Google App Engine, AWS Elastic Beanstalk).\n",
    "Software as a Service (SaaS) – Delivers software applications over the internet (e.g., Gmail, Dropbox, Salesforce)."
   ]
  },
  {
   "cell_type": "raw",
   "id": "2923c951-380f-49ab-913e-003316316669",
   "metadata": {},
   "source": [
    "5. Benefits of Cloud Computing\n",
    "Cost Efficiency – No need for large capital investments in hardware.\n",
    "Scalability – Easily scale resources up or down as needed.\n",
    "Flexibility – Access from anywhere with an internet connection.\n",
    "Security – Advanced security features provided by cloud providers.\n",
    "Disaster Recovery – Automated backups and failover capabilities."
   ]
  },
  {
   "cell_type": "raw",
   "id": "fd917e50-28ba-43d9-9cd1-7177fa0fbfe2",
   "metadata": {},
   "source": []
  }
 ],
 "metadata": {
  "kernelspec": {
   "display_name": "Python 3 (ipykernel)",
   "language": "python",
   "name": "python3"
  },
  "language_info": {
   "codemirror_mode": {
    "name": "ipython",
    "version": 3
   },
   "file_extension": ".py",
   "mimetype": "text/x-python",
   "name": "python",
   "nbconvert_exporter": "python",
   "pygments_lexer": "ipython3",
   "version": "3.12.7"
  }
 },
 "nbformat": 4,
 "nbformat_minor": 5
}
